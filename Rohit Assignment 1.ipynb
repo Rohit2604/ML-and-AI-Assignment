{
 "cells": [
  {
   "cell_type": "markdown",
   "metadata": {},
   "source": [
    "Q1) A student will not be allowed to sit in exam if his/her attendence is less than 75%.\n",
    "Take following input from user\n",
    "Number of classes held\n",
    "Number of classes attended.\n",
    "And print\n",
    "percentage of class attended\n",
    "Is student is allowed to sit in exam or not."
   ]
  },
  {
   "cell_type": "code",
   "execution_count": 5,
   "metadata": {},
   "outputs": [
    {
     "name": "stdout",
     "output_type": "stream",
     "text": [
      "number of classes held=50\n",
      "number of classes attended=45\n",
      "student is allowed to sit in the exam\n",
      "The percentage of the student= 90.0\n"
     ]
    }
   ],
   "source": [
    "x=int(input('number of classes held='))\n",
    "y=int(input('number of classes attended='))\n",
    "per=(y/x)*100\n",
    "if(per>=75):\n",
    "    print(\"student is allowed to sit in the exam\")\n",
    "    print('The percentage of the student=',per)\n",
    "else:\n",
    "    print(\"student is not allowed to sit in the exam\")\n",
    "    print('The percentage of the student=',per)\n"
   ]
  },
  {
   "cell_type": "markdown",
   "metadata": {},
   "source": [
    "Q2) A shop will give discount of 10% if the cost of purchased quantity is more than 1000.\n",
    "Ask user for quantity\n",
    "Suppose, one unit will cost 100.\n",
    "Judge and print total cost for user."
   ]
  },
  {
   "cell_type": "code",
   "execution_count": 7,
   "metadata": {},
   "outputs": [
    {
     "name": "stdout",
     "output_type": "stream",
     "text": [
      "Enter the number of quantity=9\n",
      "User will not get discount of 10%\n",
      "Cost= 900\n"
     ]
    }
   ],
   "source": [
    "y= int(input(\"Enter the number of quantity=\"))\n",
    "x=y*100\n",
    "cost=(90/100)*x\n",
    "if(x>1000):\n",
    "    print('User will get discount of 10%')\n",
    "    print('Cost=',cost)\n",
    "else:\n",
    "    print('User will not get discount of 10%')\n",
    "    print('Cost=',x)\n",
    "    "
   ]
  },
  {
   "cell_type": "markdown",
   "metadata": {},
   "source": [
    "Q3) A company decided to give bonus of 5% to employee if his/her year of service is more than 5 years.\n",
    "Ask user for their salary and year of service and print the net bonus amount."
   ]
  },
  {
   "cell_type": "code",
   "execution_count": 10,
   "metadata": {},
   "outputs": [
    {
     "name": "stdout",
     "output_type": "stream",
     "text": [
      "Enter the number of years=6\n",
      "Enter the salary60000\n",
      "The employee will get the bonus of 5%\n",
      "salary= 63000.0\n"
     ]
    }
   ],
   "source": [
    "years=int(input(\"Enter the number of years=\"))\n",
    "sal=int(input(\"Enter the salary\"))\n",
    "s=((5/100)*sal)+sal\n",
    "if(years>5):\n",
    "    print('The employee will get the bonus of 5%')\n",
    "    print('salary=',s)\n",
    "else:\n",
    "    print('The employee will not get the bonus of 5%')\n",
    "    print('salary=',sal)"
   ]
  },
  {
   "cell_type": "markdown",
   "metadata": {},
   "source": [
    "Q4) A school has following rules for grading system:\n",
    "a. Below 25 - F\n",
    "b. 25 to 45 - E\n",
    "c. 45 to 50 - D\n",
    "d. 50 to 60 - C\n",
    "e. 60 to 80 - B\n",
    "f. Above 80 - A\n",
    "Ask user to enter marks and print the corresponding grade."
   ]
  },
  {
   "cell_type": "code",
   "execution_count": 9,
   "metadata": {},
   "outputs": [
    {
     "name": "stdout",
     "output_type": "stream",
     "text": [
      "please enter your number=65\n",
      "Grade=B\n"
     ]
    }
   ],
   "source": [
    "x= int(input(\"please enter your number=\"))\n",
    "if(x<25):\n",
    "    print('Grade=F')\n",
    "elif(x<=45):\n",
    "    print('Grade=E')\n",
    "elif(x<=50):\n",
    "    print('Grade=D')\n",
    "elif(x<=60):\n",
    "    print('Grade=C')\n",
    "elif(x<=80):\n",
    "    print('Grade=B')\n",
    "else:\n",
    "    print('Grade=A')"
   ]
  },
  {
   "cell_type": "markdown",
   "metadata": {},
   "source": [
    "Q5) Modify the above question to allow student to sit if he/she has medical cause. Ask user if he/she has medical cause or not ( 'Y' or 'N' ) and print accordingly.\n"
   ]
  },
  {
   "cell_type": "code",
   "execution_count": 6,
   "metadata": {},
   "outputs": [
    {
     "name": "stdout",
     "output_type": "stream",
     "text": [
      "number of classes held=50\n",
      "number of classes attended=37\n",
      "DO you have anyy medical cause=N\n",
      "student is not allowed to sit in the exam\n",
      "The percentage of the student= 74.0\n"
     ]
    }
   ],
   "source": [
    "x=int(input('number of classes held='))\n",
    "y=int(input('number of classes attended='))\n",
    "per=(y/x)*100\n",
    "ML=input('DO you have anyy medical cause=')\n",
    "if(ML=='N'):\n",
    "    if(per>=75):\n",
    "            print(\"student is allowed to sit in the exam\")\n",
    "            print('The percentage of the student=',per)\n",
    "    else:\n",
    "        print(\"student is not allowed to sit in the exam\")\n",
    "        print('The percentage of the student=',per)\n",
    "if(ML=='Y'):\n",
    "    print(\"student is allowed to sit in the exam\")\n",
    "    print('The percentage of the student=',per)"
   ]
  },
  {
   "cell_type": "code",
   "execution_count": null,
   "metadata": {},
   "outputs": [],
   "source": []
  }
 ],
 "metadata": {
  "kernelspec": {
   "display_name": "Python 3",
   "language": "python",
   "name": "python3"
  },
  "language_info": {
   "codemirror_mode": {
    "name": "ipython",
    "version": 3
   },
   "file_extension": ".py",
   "mimetype": "text/x-python",
   "name": "python",
   "nbconvert_exporter": "python",
   "pygments_lexer": "ipython3",
   "version": "3.7.6"
  }
 },
 "nbformat": 4,
 "nbformat_minor": 4
}
